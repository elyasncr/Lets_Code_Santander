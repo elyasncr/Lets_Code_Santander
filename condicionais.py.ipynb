{
 "cells": [
  {
   "cell_type": "code",
   "execution_count": 2,
   "id": "0ead337c",
   "metadata": {},
   "outputs": [
    {
     "name": "stdout",
     "output_type": "stream",
     "text": [
      "qual é o valor da corrida? 40\n",
      "Pegue o ônibus.\n"
     ]
    }
   ],
   "source": [
    "valor_passagem = 4.30\n",
    "\n",
    "valor_corrida = input('qual é o valor da corrida? ')\n",
    "\n",
    "if float(valor_corrida) <= (valor_passagem * 5):\n",
    "    print('Pague a corrida.')\n",
    "if float(valor_corrida) > (valor_passagem * 5):\n",
    "    print('Pegue o ônibus.')"
   ]
  },
  {
   "cell_type": "code",
   "execution_count": 3,
   "id": "097eaf7c",
   "metadata": {},
   "outputs": [
    {
     "name": "stdout",
     "output_type": "stream",
     "text": [
      "qual é o valor da corrida? 323\n",
      "Pegue o ônibus.\n"
     ]
    }
   ],
   "source": [
    "valor_passagem = 4.30\n",
    "\n",
    "valor_corrida = input('qual é o valor da corrida? ')\n",
    "\n",
    "if float(valor_corrida) <= (valor_passagem * 5):\n",
    "    print('Pague a corrida.')\n",
    "else:\n",
    "    print('Pegue o ônibus.')"
   ]
  },
  {
   "cell_type": "code",
   "execution_count": 5,
   "id": "cc6b4679",
   "metadata": {},
   "outputs": [
    {
     "name": "stdout",
     "output_type": "stream",
     "text": [
      "qual é o valor da corrida? 43\n",
      "Pegue o ônibus.\n"
     ]
    }
   ],
   "source": [
    "valor_passagem = 4.30\n",
    "\n",
    "valor_corrida = input('qual é o valor da corrida? ')\n",
    "\n",
    "if float(valor_corrida) <= (valor_passagem * 5):\n",
    "    print('Pague a corrida.')\n",
    "else:\n",
    "    if float(valor_corrida) <= (valor_passagem * 6):\n",
    "        print('Aguarde um momento, o valor pode abaixar')\n",
    "    else:\n",
    "        print('Pegue o ônibus.')"
   ]
  },
  {
   "cell_type": "code",
   "execution_count": 6,
   "id": "2c183f97",
   "metadata": {},
   "outputs": [
    {
     "name": "stdout",
     "output_type": "stream",
     "text": [
      "qual é o valor da corrida? 32\n",
      "Pegue o ônibus.\n"
     ]
    }
   ],
   "source": [
    "valor_passagem = 4.30\n",
    "\n",
    "valor_corrida = input('qual é o valor da corrida? ')\n",
    "\n",
    "if float(valor_corrida) <= (valor_passagem * 5):\n",
    "    print('Pague a corrida.')\n",
    "elif float(valor_corrida) <= (valor_passagem * 6):\n",
    "    print('Aguarde um momento, o valor pode abaixar')\n",
    "else:\n",
    "    print('Pegue o ônibus.')"
   ]
  },
  {
   "cell_type": "code",
   "execution_count": null,
   "id": "f6279e0a",
   "metadata": {},
   "outputs": [],
   "source": []
  }
 ],
 "metadata": {
  "kernelspec": {
   "display_name": "Python 3 (ipykernel)",
   "language": "python",
   "name": "python3"
  },
  "language_info": {
   "codemirror_mode": {
    "name": "ipython",
    "version": 3
   },
   "file_extension": ".py",
   "mimetype": "text/x-python",
   "name": "python",
   "nbconvert_exporter": "python",
   "pygments_lexer": "ipython3",
   "version": "3.10.5"
  }
 },
 "nbformat": 4,
 "nbformat_minor": 5
}
