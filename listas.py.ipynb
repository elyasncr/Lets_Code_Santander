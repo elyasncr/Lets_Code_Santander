{
 "cells": [
  {
   "cell_type": "code",
   "execution_count": 1,
   "id": "45b42994",
   "metadata": {},
   "outputs": [
    {
     "name": "stdout",
     "output_type": "stream",
     "text": [
      "['brasil', 'argentina', 'china', 'canada', 'japão']\n"
     ]
    }
   ],
   "source": [
    "nomes_paises = ['brasil', 'argentina', 'china', 'canada', 'japão']\n",
    "print(nomes_paises)"
   ]
  },
  {
   "cell_type": "code",
   "execution_count": 2,
   "id": "75fd00e6",
   "metadata": {},
   "outputs": [
    {
     "name": "stdout",
     "output_type": "stream",
     "text": [
      "Tamanho da lista:  5\n"
     ]
    }
   ],
   "source": [
    "print('Tamanho da lista: ', len(nomes_paises))"
   ]
  },
  {
   "cell_type": "code",
   "execution_count": 3,
   "id": "61342b11",
   "metadata": {},
   "outputs": [
    {
     "name": "stdout",
     "output_type": "stream",
     "text": [
      "País:  japão\n"
     ]
    }
   ],
   "source": [
    "print('País: ', nomes_paises[4])"
   ]
  },
  {
   "cell_type": "code",
   "execution_count": 4,
   "id": "fc7036ab",
   "metadata": {},
   "outputs": [
    {
     "name": "stdout",
     "output_type": "stream",
     "text": [
      "País:  japão\n"
     ]
    }
   ],
   "source": [
    "print('País: ', nomes_paises[-1])"
   ]
  },
  {
   "cell_type": "code",
   "execution_count": 5,
   "id": "a0d1dcac",
   "metadata": {},
   "outputs": [
    {
     "name": "stdout",
     "output_type": "stream",
     "text": [
      "País:  Colômbia\n",
      "['brasil', 'argentina', 'china', 'canada', 'Colômbia']\n"
     ]
    }
   ],
   "source": [
    "nomes_paises[4] = 'Colômbia'\n",
    "print('País: ', nomes_paises[4])\n",
    "print(nomes_paises)"
   ]
  },
  {
   "cell_type": "code",
   "execution_count": 6,
   "id": "aec5c810",
   "metadata": {},
   "outputs": [
    {
     "name": "stdout",
     "output_type": "stream",
     "text": [
      "['argentina', 'china']\n"
     ]
    }
   ],
   "source": [
    "print(nomes_paises[1:3])"
   ]
  },
  {
   "cell_type": "code",
   "execution_count": 7,
   "id": "dcf19e31",
   "metadata": {},
   "outputs": [
    {
     "name": "stdout",
     "output_type": "stream",
     "text": [
      "['argentina', 'china', 'canada']\n"
     ]
    }
   ],
   "source": [
    "print(nomes_paises[1:-1])"
   ]
  },
  {
   "cell_type": "code",
   "execution_count": 8,
   "id": "5f63660c",
   "metadata": {},
   "outputs": [
    {
     "name": "stdout",
     "output_type": "stream",
     "text": [
      "['china', 'canada', 'Colômbia']\n"
     ]
    }
   ],
   "source": [
    "print(nomes_paises[2:])"
   ]
  },
  {
   "cell_type": "code",
   "execution_count": 9,
   "id": "50b9139a",
   "metadata": {},
   "outputs": [
    {
     "name": "stdout",
     "output_type": "stream",
     "text": [
      "['brasil', 'argentina', 'china']\n"
     ]
    }
   ],
   "source": [
    "print(nomes_paises[:3])"
   ]
  },
  {
   "cell_type": "code",
   "execution_count": 10,
   "id": "11267ef3",
   "metadata": {},
   "outputs": [
    {
     "name": "stdout",
     "output_type": "stream",
     "text": [
      "['brasil', 'argentina', 'china', 'canada', 'Colômbia']\n"
     ]
    }
   ],
   "source": [
    "print(nomes_paises[:])"
   ]
  },
  {
   "cell_type": "code",
   "execution_count": 11,
   "id": "bba70357",
   "metadata": {},
   "outputs": [
    {
     "name": "stdout",
     "output_type": "stream",
     "text": [
      "['brasil', 'china', 'Colômbia']\n"
     ]
    }
   ],
   "source": [
    "print(nomes_paises[::2])"
   ]
  },
  {
   "cell_type": "code",
   "execution_count": 12,
   "id": "0354bb27",
   "metadata": {},
   "outputs": [
    {
     "name": "stdout",
     "output_type": "stream",
     "text": [
      "True\n"
     ]
    }
   ],
   "source": [
    "print('brasil' in nomes_paises)"
   ]
  },
  {
   "cell_type": "code",
   "execution_count": 13,
   "id": "6773d522",
   "metadata": {},
   "outputs": [
    {
     "name": "stdout",
     "output_type": "stream",
     "text": [
      "False\n"
     ]
    }
   ],
   "source": [
    "print('canada' not in nomes_paises)"
   ]
  },
  {
   "cell_type": "code",
   "execution_count": 14,
   "id": "bce47495",
   "metadata": {},
   "outputs": [],
   "source": [
    "listas_capitais = []"
   ]
  },
  {
   "cell_type": "code",
   "execution_count": 15,
   "id": "08ddce27",
   "metadata": {},
   "outputs": [
    {
     "ename": "NameError",
     "evalue": "name 'lista_capitais' is not defined",
     "output_type": "error",
     "traceback": [
      "\u001b[1;31m---------------------------------------------------------------------------\u001b[0m",
      "\u001b[1;31mNameError\u001b[0m                                 Traceback (most recent call last)",
      "Cell \u001b[1;32mIn [15], line 1\u001b[0m\n\u001b[1;32m----> 1\u001b[0m \u001b[43mlista_capitais\u001b[49m\u001b[38;5;241m.\u001b[39mappend(\u001b[38;5;124m'\u001b[39m\u001b[38;5;124mBrasília\u001b[39m\u001b[38;5;124m'\u001b[39m)\n",
      "\u001b[1;31mNameError\u001b[0m: name 'lista_capitais' is not defined"
     ]
    }
   ],
   "source": [
    "lista_capitais.append('Brasília')"
   ]
  },
  {
   "cell_type": "code",
   "execution_count": 17,
   "id": "9edc7230",
   "metadata": {},
   "outputs": [
    {
     "name": "stdout",
     "output_type": "stream",
     "text": [
      "['Brasília', 'São Paulo', 'Belem', 'Rio de Janeiro', 'Gramado', 'Ceara', 'Brasília', 'São Paulo', 'Belem', 'Rio de Janeiro', 'Gramado', 'Ceara']\n"
     ]
    }
   ],
   "source": [
    "listas_capitais.append('Brasília')\n",
    "listas_capitais.append('São Paulo')\n",
    "listas_capitais.append('Belem')\n",
    "listas_capitais.append('Rio de Janeiro')\n",
    "listas_capitais.append('Gramado')\n",
    "listas_capitais.append('Ceara')\n",
    "\n",
    "print(listas_capitais)"
   ]
  },
  {
   "cell_type": "code",
   "execution_count": 18,
   "id": "58e6d1ac",
   "metadata": {},
   "outputs": [
    {
     "ename": "NameError",
     "evalue": "name 'lsitas_capitais' is not defined",
     "output_type": "error",
     "traceback": [
      "\u001b[1;31m---------------------------------------------------------------------------\u001b[0m",
      "\u001b[1;31mNameError\u001b[0m                                 Traceback (most recent call last)",
      "Cell \u001b[1;32mIn [18], line 1\u001b[0m\n\u001b[1;32m----> 1\u001b[0m \u001b[43mlsitas_capitais\u001b[49m\u001b[38;5;241m.\u001b[39minsert(\u001b[38;5;241m2\u001b[39m, \u001b[38;5;124m'\u001b[39m\u001b[38;5;124mParis\u001b[39m\u001b[38;5;124m'\u001b[39m)\n",
      "\u001b[1;31mNameError\u001b[0m: name 'lsitas_capitais' is not defined"
     ]
    }
   ],
   "source": [
    "lsitas_capitais.insert(2, 'Paris')"
   ]
  },
  {
   "cell_type": "code",
   "execution_count": 19,
   "id": "5143c6d9",
   "metadata": {},
   "outputs": [
    {
     "name": "stdout",
     "output_type": "stream",
     "text": [
      "['Brasília', 'São Paulo', 'Paris', 'Belem', 'Rio de Janeiro', 'Gramado', 'Ceara', 'Brasília', 'São Paulo', 'Belem', 'Rio de Janeiro', 'Gramado', 'Ceara']\n"
     ]
    }
   ],
   "source": [
    "listas_capitais.insert(2, 'Paris')\n",
    "print(listas_capitais)"
   ]
  },
  {
   "cell_type": "code",
   "execution_count": 20,
   "id": "ebf63e8e",
   "metadata": {},
   "outputs": [
    {
     "name": "stdout",
     "output_type": "stream",
     "text": [
      "['Brasília', 'São Paulo', 'Belem', 'Rio de Janeiro', 'Gramado', 'Ceara', 'Brasília', 'São Paulo', 'Belem', 'Rio de Janeiro', 'Gramado', 'Ceara'] Paris\n"
     ]
    }
   ],
   "source": [
    "removido = listas_capitais.pop(2)\n",
    "print(listas_capitais, removido)"
   ]
  },
  {
   "cell_type": "code",
   "execution_count": null,
   "id": "c1771894",
   "metadata": {},
   "outputs": [],
   "source": []
  }
 ],
 "metadata": {
  "kernelspec": {
   "display_name": "Python 3 (ipykernel)",
   "language": "python",
   "name": "python3"
  },
  "language_info": {
   "codemirror_mode": {
    "name": "ipython",
    "version": 3
   },
   "file_extension": ".py",
   "mimetype": "text/x-python",
   "name": "python",
   "nbconvert_exporter": "python",
   "pygments_lexer": "ipython3",
   "version": "3.10.5"
  }
 },
 "nbformat": 4,
 "nbformat_minor": 5
}
