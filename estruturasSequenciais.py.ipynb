{
 "cells": [
  {
   "cell_type": "code",
   "execution_count": 1,
   "id": "32fd2387",
   "metadata": {},
   "outputs": [
    {
     "name": "stdout",
     "output_type": "stream",
     "text": [
      "qual é o valor da corrida? 21,40\n"
     ]
    },
    {
     "ename": "ValueError",
     "evalue": "could not convert string to float: '21,40'",
     "output_type": "error",
     "traceback": [
      "\u001b[1;31m---------------------------------------------------------------------------\u001b[0m",
      "\u001b[1;31mValueError\u001b[0m                                Traceback (most recent call last)",
      "Cell \u001b[1;32mIn [1], line 5\u001b[0m\n\u001b[0;32m      1\u001b[0m valor_passagem \u001b[38;5;241m=\u001b[39m \u001b[38;5;241m4.30\u001b[39m\n\u001b[0;32m      3\u001b[0m valor_corrida \u001b[38;5;241m=\u001b[39m \u001b[38;5;28minput\u001b[39m(\u001b[38;5;124m'\u001b[39m\u001b[38;5;124mqual é o valor da corrida? \u001b[39m\u001b[38;5;124m'\u001b[39m)\n\u001b[1;32m----> 5\u001b[0m \u001b[38;5;28;01mif\u001b[39;00m \u001b[38;5;28;43mfloat\u001b[39;49m\u001b[43m(\u001b[49m\u001b[43mvalor_corrida\u001b[49m\u001b[43m)\u001b[49m \u001b[38;5;241m<\u001b[39m\u001b[38;5;241m=\u001b[39m valor_passagem \u001b[38;5;241m*\u001b[39m \u001b[38;5;241m5\u001b[39m:\n\u001b[0;32m      6\u001b[0m     \u001b[38;5;28mprint\u001b[39m(\u001b[38;5;124m'\u001b[39m\u001b[38;5;124mPague a corrida.\u001b[39m\u001b[38;5;124m'\u001b[39m)\n\u001b[0;32m      7\u001b[0m \u001b[38;5;28;01mif\u001b[39;00m \u001b[38;5;28mfloat\u001b[39m(valor_corrida) \u001b[38;5;241m>\u001b[39m valor_passagem \u001b[38;5;241m*\u001b[39m \u001b[38;5;241m5\u001b[39m:\n",
      "\u001b[1;31mValueError\u001b[0m: could not convert string to float: '21,40'"
     ]
    }
   ],
   "source": [
    "valor_passagem = 4.30\n",
    "\n",
    "valor_corrida = input('qual é o valor da corrida? ')\n",
    "\n",
    "if float(valor_corrida) <= valor_passagem * 5:\n",
    "    print('Pague a corrida.')\n",
    "if float(valor_corrida) > valor_passagem * 5:\n",
    "    print('Pegue o ônibus.')"
   ]
  },
  {
   "cell_type": "code",
   "execution_count": 2,
   "id": "c18503e3",
   "metadata": {},
   "outputs": [
    {
     "name": "stdout",
     "output_type": "stream",
     "text": [
      "qual é o valor da corrida? 20\n"
     ]
    },
    {
     "ename": "TypeError",
     "evalue": "'<=' not supported between instances of 'str' and 'float'",
     "output_type": "error",
     "traceback": [
      "\u001b[1;31m---------------------------------------------------------------------------\u001b[0m",
      "\u001b[1;31mTypeError\u001b[0m                                 Traceback (most recent call last)",
      "Cell \u001b[1;32mIn [2], line 5\u001b[0m\n\u001b[0;32m      1\u001b[0m valor_passagem \u001b[38;5;241m=\u001b[39m \u001b[38;5;241m4.30\u001b[39m\n\u001b[0;32m      3\u001b[0m valor_corrida \u001b[38;5;241m=\u001b[39m \u001b[38;5;28minput\u001b[39m(\u001b[38;5;124m'\u001b[39m\u001b[38;5;124mqual é o valor da corrida? \u001b[39m\u001b[38;5;124m'\u001b[39m)\n\u001b[1;32m----> 5\u001b[0m \u001b[38;5;28;01mif\u001b[39;00m \u001b[43mvalor_corrida\u001b[49m\u001b[43m \u001b[49m\u001b[38;5;241;43m<\u001b[39;49m\u001b[38;5;241;43m=\u001b[39;49m\u001b[43m \u001b[49m\u001b[43mvalor_passagem\u001b[49m\u001b[43m \u001b[49m\u001b[38;5;241;43m*\u001b[39;49m\u001b[43m \u001b[49m\u001b[38;5;241;43m5\u001b[39;49m:\n\u001b[0;32m      6\u001b[0m     \u001b[38;5;28mprint\u001b[39m(\u001b[38;5;124m'\u001b[39m\u001b[38;5;124mPague a corrida.\u001b[39m\u001b[38;5;124m'\u001b[39m)\n\u001b[0;32m      7\u001b[0m \u001b[38;5;28;01mif\u001b[39;00m valor_corrida \u001b[38;5;241m>\u001b[39m valor_passagem \u001b[38;5;241m*\u001b[39m \u001b[38;5;241m5\u001b[39m:\n",
      "\u001b[1;31mTypeError\u001b[0m: '<=' not supported between instances of 'str' and 'float'"
     ]
    }
   ],
   "source": [
    "valor_passagem = 4.30\n",
    "\n",
    "valor_corrida = input('qual é o valor da corrida? ')\n",
    "\n",
    "if valor_corrida <= valor_passagem * 5:\n",
    "    print('Pague a corrida.')\n",
    "if valor_corrida > valor_passagem * 5:\n",
    "    print('Pegue o ônibus.')"
   ]
  },
  {
   "cell_type": "code",
   "execution_count": null,
   "id": "d83c175f",
   "metadata": {},
   "outputs": [],
   "source": []
  },
  {
   "cell_type": "code",
   "execution_count": null,
   "id": "d70be20b",
   "metadata": {},
   "outputs": [],
   "source": []
  }
 ],
 "metadata": {
  "kernelspec": {
   "display_name": "Python 3 (ipykernel)",
   "language": "python",
   "name": "python3"
  },
  "language_info": {
   "codemirror_mode": {
    "name": "ipython",
    "version": 3
   },
   "file_extension": ".py",
   "mimetype": "text/x-python",
   "name": "python",
   "nbconvert_exporter": "python",
   "pygments_lexer": "ipython3",
   "version": "3.10.5"
  }
 },
 "nbformat": 4,
 "nbformat_minor": 5
}
